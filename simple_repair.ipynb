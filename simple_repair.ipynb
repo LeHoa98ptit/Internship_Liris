{
 "cells": [
  {
   "cell_type": "code",
   "execution_count": 1,
   "id": "071a1a99-e7ea-4ecd-a44c-03124aca49c1",
   "metadata": {},
   "outputs": [],
   "source": [
    "correct_graph = {\n",
    "  \"nodes\": [\n",
    "    {\"id\": \"1\", \"label\": \"Person\", \"properties\": {\"name\": \"Alice\", \"age\": 30, \"gender\": \"Female\"}},\n",
    "    {\"id\": \"2\", \"label\": \"Person\", \"properties\": {\"name\": \"Bob\", \"age\": 35, \"gender\": \"Male\"}},\n",
    "    {\"id\": \"3\", \"label\": \"Person\", \"properties\": {\"name\": \"Charlie\", \"age\": 10, \"gender\": \"Male\"}},\n",
    "    {\"id\": \"4\", \"label\": \"Person\", \"properties\": {\"name\": \"David\", \"age\": 60, \"gender\": \"Male\"}},\n",
    "    {\"id\": \"5\", \"label\": \"Person\", \"properties\": {\"name\": \"Eve\", \"age\": 58, \"gender\": \"Female\"}},\n",
    "    {\"id\": \"6\", \"label\": \"Person\", \"properties\": {\"name\": \"Faythe\", \"age\": 32, \"gender\": \"Female\"}},\n",
    "    {\"id\": \"7\", \"label\": \"Person\", \"properties\": {\"name\": \"Grace\", \"age\": 5, \"gender\": \"Female\"}},\n",
    "    {\"id\": \"8\", \"label\": \"Person\", \"properties\": {\"name\": \"Heidi\", \"age\": 28, \"gender\": \"Female\"}},\n",
    "    {\"id\": \"9\", \"label\": \"Person\", \"properties\": {\"name\": \"Ivan\", \"age\": 33, \"gender\": \"Male\"}},\n",
    "    {\"id\": \"10\", \"label\": \"Person\", \"properties\": {\"name\": \"Judy\", \"age\": 25, \"gender\": \"Female\"}},\n",
    "    {\"id\": \"11\", \"label\": \"Person\", \"properties\": {\"name\": \"Karl\", \"age\": 65, \"gender\": \"Male\"}},\n",
    "    {\"id\": \"12\", \"label\": \"Person\", \"properties\": {\"name\": \"Laura\", \"age\": 63, \"gender\": \"Female\"}}\n",
    "  ],\n",
    "  \"edges\": [\n",
    "    {\"start\": \"1\", \"end\": \"2\", \"label\": \"SPOUSE\", \"properties\": {\"since\": 2010}},\n",
    "    {\"start\": \"1\", \"end\": \"3\", \"label\": \"PARENT_OF\", \"properties\": {\"since\": 2013}},\n",
    "    {\"start\": \"2\", \"end\": \"3\", \"label\": \"PARENT_OF\", \"properties\": {\"since\": 2013}},\n",
    "    {\"start\": \"4\", \"end\": \"1\", \"label\": \"PARENT_OF\", \"properties\": {\"since\": 1990}},\n",
    "    {\"start\": \"5\", \"end\": \"1\", \"label\": \"PARENT_OF\", \"properties\": {\"since\": 1990}},\n",
    "    {\"start\": \"4\", \"end\": \"6\", \"label\": \"PARENT_OF\", \"properties\": {\"since\": 1992}},\n",
    "    {\"start\": \"5\", \"end\": \"6\", \"label\": \"PARENT_OF\", \"properties\": {\"since\": 1992}},\n",
    "    {\"start\": \"6\", \"end\": \"7\", \"label\": \"PARENT_OF\", \"properties\": {\"since\": 2019}},\n",
    "    {\"start\": \"8\", \"end\": \"9\", \"label\": \"SPOUSE\", \"properties\": {\"since\": 2020}},\n",
    "    {\"start\": \"8\", \"end\": \"10\", \"label\": \"SIBLING_OF\", \"properties\": {}},\n",
    "    {\"start\": \"4\", \"end\": \"11\", \"label\": \"SIBLING_OF\", \"properties\": {}},\n",
    "    {\"start\": \"5\", \"end\": \"12\", \"label\": \"SIBLING_OF\", \"properties\": {}},\n",
    "    {\"start\": \"11\", \"end\": \"12\", \"label\": \"SPOUSE\", \"properties\": {\"since\": 1980}},\n",
    "    {\"start\": \"11\", \"end\": \"2\", \"label\": \"UNCLE_OF\", \"properties\": {}},\n",
    "    {\"start\": \"12\", \"end\": \"1\", \"label\": \"AUNT_OF\", \"properties\": {}},\n",
    "    {\"start\": \"11\", \"end\": \"3\", \"label\": \"GRANDPARENT_OF\", \"properties\": {}},\n",
    "    {\"start\": \"12\", \"end\": \"3\", \"label\": \"GRANDPARENT_OF\", \"properties\": {}}\n",
    "  ]\n",
    "}\n"
   ]
  },
  {
   "cell_type": "code",
   "execution_count": 3,
   "id": "12fd7a77-24d6-4311-93e1-389a13f64044",
   "metadata": {},
   "outputs": [],
   "source": [
    "error_graph = {\n",
    "  \"nodes\": [\n",
    "    {\"id\": \"1\", \"label\": \"Person\", \"properties\": {\"name\": \"Alice\", \"age\": \"thirty\", \"gender\": \"Female\"}},  # Error: \"age\" is a string instead of a number\n",
    "    {\"id\": \"2\", \"label\": \"Person\", \"properties\": {\"name\": \"Bob\", \"age\": 35, \"gender\": \"Male\"}},\n",
    "    {\"id\": \"3\", \"label\": \"Person\", \"properties\": {\"name\": \"Charlie\", \"age\": 10, \"gender\": \"M\"}},  # Error: \"gender\" should be \"Male\"\n",
    "    {\"id\": \"4\", \"label\": \"Person\", \"properties\": {\"name\": \"David\", \"age\": 60, \"gender\": \"Male\"}},\n",
    "    {\"id\": \"5\", \"label\": \"Person\", \"properties\": {\"name\": \"Eve\", \"age\": \"58\", \"gender\": \"Female\"}},  # Error: \"age\" is a string instead of a number\n",
    "    {\"id\": \"6\", \"label\": \"Person\", \"properties\": {\"name\": \"Faythe\", \"age\": 32, \"gender\": \"Female\"}},\n",
    "    {\"id\": \"7\", \"label\": \"Person\", \"properties\": {\"name\": \"Grace\", \"age\": 5, \"gender\": \"Female\"}},\n",
    "    {\"id\": \"8\", \"label\": \"Person\", \"properties\": {\"name\": \"Hedi\", \"age\": 28, \"gender\": \"Female\"}}, \n",
    "    {\"id\": \"9\", \"label\": \"Person\", \"properties\": {\"name\": \"Ivan\", \"age\": 33, \"gender\": \"Male\"}},\n",
    "    {\"id\": \"10\", \"label\": \"Person\", \"properties\": {\"name\": \"Judy\", \"age\": 25, \"gender\": \"Female\"}},\n",
    "    {\"id\": \"11\", \"label\": \"Person\", \"properties\": {\"name\": \"Karl\", \"age\": 65, \"gender\": \"Male\"}},\n",
    "    {\"id\": \"12\", \"label\": \"Person\", \"properties\": {\"name\": \"Laura\", \"age\": 63, \"gender\": \"Female\"}}\n",
    "  ],\n",
    "  \"edges\": [\n",
    "    {\"start\": \"1\", \"end\": \"2\", \"label\": \"MARRIED_TO\", \"properties\": {\"since\": \"2010\"}},  # Error: Label should be \"SPOUSE\", and \"since\" should be a number\n",
    "    {\"start\": \"1\", \"end\": \"3\", \"label\": \"PARENT_OF\", \"properties\": {\"since\": \"2013\"}},  # Error: \"since\" should be a number\n",
    "    {\"start\": \"2\", \"end\": \"3\", \"label\": \"PARENT_OF\", \"properties\": {\"since\": 2013}},\n",
    "    {\"start\": \"4\", \"end\": \"1\", \"label\": \"PARENT_OF\", \"properties\": {\"since\": \"1990\"}},  # Error: \"since\" should be a number\n",
    "    {\"start\": \"5\", \"end\": \"1\", \"label\": \"PARENT_OF\", \"properties\": {\"since\": 1990}},\n",
    "    {\"start\": \"4\", \"end\": \"6\", \"label\": \"PARENT_OF\", \"properties\": {\"since\": 1992}},\n",
    "    {\"start\": \"5\", \"end\": \"6\", \"label\": \"PARENT_OF\", \"properties\": {\"since\": 1992}},\n",
    "    {\"start\": \"6\", \"end\": \"7\", \"label\": \"PARENT_OF\", \"properties\": {\"since\": 2019}},\n",
    "    {\"start\": \"8\", \"end\": \"9\", \"label\": \"MARRIED_TO\", \"properties\": {\"since\": 2020}},  # Error: Label should be \"SPOUSE\"\n",
    "    {\"start\": \"8\", \"end\": \"10\", \"label\": \"BROTHER_OF\", \"properties\": {}},  # Error: Label should be \"SIBLING_OF\"\n",
    "    {\"start\": \"4\", \"end\": \"11\", \"label\": \"BROTHER_OF\", \"properties\": {}},  # Error: Label should be \"SIBLING_OF\"\n",
    "    {\"start\": \"5\", \"end\": \"12\", \"label\": \"SIBLING_OF\", \"properties\": {}},\n",
    "    {\"start\": \"11\", \"end\": \"12\", \"label\": \"SPOUSE\", \"properties\": {\"since\": \"1980\"}},  # Error: \"since\" should be a number\n",
    "    {\"start\": \"11\", \"end\": \"2\", \"label\": \"UNCLE_OF\", \"properties\": {}},\n",
    "    {\"start\": \"12\", \"end\": \"1\", \"label\": \"AUNT_OF\", \"properties\": {}},\n",
    "    {\"start\": \"11\", \"end\": \"3\", \"label\": \"GRANDFATHER_OF\", \"properties\": {}},  # Error: Label should be \"GRANDPARENT_OF\"\n",
    "    {\"start\": \"12\", \"end\": \"3\", \"label\": \"GRANDPARENT_OF\", \"properties\": {}}\n",
    "  ]\n",
    "}\n"
   ]
  },
  {
   "cell_type": "code",
   "execution_count": 4,
   "id": "3b8ec28b-e7e8-444e-9d81-50ecd9300c6d",
   "metadata": {},
   "outputs": [
    {
     "data": {
      "image/png": "[encoded data removed]",
      "text/plain": [
       "<Figure size 1000x800 with 1 Axes>"
      ]
     },
     "metadata": {},
     "output_type": "display_data"
    }
   ],
   "source": [
    "import matplotlib.pyplot as plt\n",
    "import networkx as nx\n",
    "\n",
    "# Create a networkx graph object\n",
    "G = nx.DiGraph()\n",
    "\n",
    "# Add nodes with their attributes (id, label, properties)\n",
    "for node in correct_graph[\"nodes\"]:\n",
    "    G.add_node(node[\"id\"], label=node[\"label\"], **node[\"properties\"])\n",
    "\n",
    "# Add edges with their attributes (start, end, label, properties)\n",
    "for edge in correct_graph[\"edges\"]:\n",
    "    G.add_edge(edge[\"start\"], edge[\"end\"], label=edge[\"label\"], **edge[\"properties\"])\n",
    "\n",
    "# Set node positions for visualization (optional)\n",
    "pos = nx.spring_layout(G)  # Use a layout algorithm\n",
    "\n",
    "# Customize node and edge styles\n",
    "node_color = 'lightblue'\n",
    "edge_color = 'black'\n",
    "\n",
    "plt.figure(figsize=(10, 8))\n",
    "\n",
    "# Draw nodes\n",
    "nx.draw_networkx_nodes(G, pos, nodelist=G.nodes(), node_color=node_color, node_size=500)\n",
    "\n",
    "# Draw edges with labels\n",
    "nx.draw_networkx_edges(G, pos, edgelist=G.edges(), edge_color=edge_color, width=2)\n",
    "nx.draw_networkx_edge_labels(G, pos, edge_labels=dict(G.edges()), font_size=6)\n",
    "\n",
    "# Add labels for nodes\n",
    "nx.draw_networkx_labels(G, pos, font_size=16)\n",
    "\n",
    "plt.axis('off')\n",
    "plt.show()\n"
   ]
  },
  {
   "cell_type": "markdown",
   "id": "b210d5ed-52b9-403d-a53b-b3c9bbd9ed32",
   "metadata": {},
   "source": [
    "## Encoder\n",
    "\n"
   ]
  },
  {
   "cell_type": "code",
   "execution_count": 5,
   "id": "f83f28e9-f2db-4aa9-bbc1-0f66e2de4453",
   "metadata": {},
   "outputs": [],
   "source": [
    "def create_node_string(nodes):\n",
    "    node_strings = []\n",
    "    for node in nodes:\n",
    "        properties = \", \".join(f\"{k}: {v}\" for k, v in node[\"properties\"].items())\n",
    "        node_strings.append(f\"{node['label']} {node['id']} ({properties})\")\n",
    "    return \"; \".join(node_strings)\n",
    "\n",
    "def encode_graph(graph):\n",
    "    nodes_string = create_node_string(graph[\"nodes\"])\n",
    "    output = f\"G describes a graph among nodes: {nodes_string}.\\n\"\n",
    "\n",
    "    if graph[\"edges\"]:\n",
    "        output += \"In this graph:\\n\"\n",
    "\n",
    "    for edge in graph[\"edges\"]:\n",
    "        start_node = next(node for node in graph[\"nodes\"] if node[\"id\"] == edge[\"start\"])\n",
    "        end_node = next(node for node in graph[\"nodes\"] if node[\"id\"] == edge[\"end\"])\n",
    "        start_node_str = f\"{start_node['label']} {start_node['id']}\"\n",
    "        end_node_str = f\"{end_node['label']} {end_node['id']}\"\n",
    "        properties = \", \".join(f\"{k}: {v}\" for k, v in edge[\"properties\"].items())\n",
    "\n",
    "        output += f\"Node {start_node_str} is connected to node {end_node_str} with edge {edge['label']} ({properties}).\\n\"\n",
    "\n",
    "    return output\n",
    "\n"
   ]
  },
  {
   "cell_type": "markdown",
   "id": "4b98bfef-270a-4402-bafb-e5a12dc019d8",
   "metadata": {},
   "source": [
    "### Correct graph encoder"
   ]
  },
  {
   "cell_type": "code",
   "execution_count": 6,
   "id": "85cad5c3-918e-425d-8ef4-4e46aa78ec77",
   "metadata": {},
   "outputs": [
    {
     "name": "stdout",
     "output_type": "stream",
     "text": [
      "Encoded graph:\n",
      " G describes a graph among nodes: Person 1 (name: Alice, age: 30, gender: Female); Person 2 (name: Bob, age: 35, gender: Male); Person 3 (name: Charlie, age: 10, gender: Male); Person 4 (name: David, age: 60, gender: Male); Person 5 (name: Eve, age: 58, gender: Female); Person 6 (name: Faythe, age: 32, gender: Female); Person 7 (name: Grace, age: 5, gender: Female); Person 8 (name: Heidi, age: 28, gender: Female); Person 9 (name: Ivan, age: 33, gender: Male); Person 10 (name: Judy, age: 25, gender: Female); Person 11 (name: Karl, age: 65, gender: Male); Person 12 (name: Laura, age: 63, gender: Female).\n",
      "In this graph:\n",
      "Node Person 1 is connected to node Person 2 with edge SPOUSE (since: 2010).\n",
      "Node Person 1 is connected to node Person 3 with edge PARENT_OF (since: 2013).\n",
      "Node Person 2 is connected to node Person 3 with edge PARENT_OF (since: 2013).\n",
      "Node Person 4 is connected to node Person 1 with edge PARENT_OF (since: 1990).\n",
      "Node Person 5 is connected to node Person 1 with edge PARENT_OF (since: 1990).\n",
      "Node Person 4 is connected to node Person 6 with edge PARENT_OF (since: 1992).\n",
      "Node Person 5 is connected to node Person 6 with edge PARENT_OF (since: 1992).\n",
      "Node Person 6 is connected to node Person 7 with edge PARENT_OF (since: 2019).\n",
      "Node Person 8 is connected to node Person 9 with edge SPOUSE (since: 2020).\n",
      "Node Person 8 is connected to node Person 10 with edge SIBLING_OF ().\n",
      "Node Person 4 is connected to node Person 11 with edge SIBLING_OF ().\n",
      "Node Person 5 is connected to node Person 12 with edge SIBLING_OF ().\n",
      "Node Person 11 is connected to node Person 12 with edge SPOUSE (since: 1980).\n",
      "Node Person 11 is connected to node Person 2 with edge UNCLE_OF ().\n",
      "Node Person 12 is connected to node Person 1 with edge AUNT_OF ().\n",
      "Node Person 11 is connected to node Person 3 with edge GRANDPARENT_OF ().\n",
      "Node Person 12 is connected to node Person 3 with edge GRANDPARENT_OF ().\n",
      "\n"
     ]
    }
   ],
   "source": [
    "# Graph encoding\n",
    "correct_encoded_graph = encode_graph(correct_graph)\n",
    "print(\"Encoded graph:\\n\", correct_encoded_graph)"
   ]
  },
  {
   "cell_type": "markdown",
   "id": "324bb60b-aa76-4b6f-b0f7-01748c46f7c7",
   "metadata": {},
   "source": [
    "### Error graph encoder"
   ]
  },
  {
   "cell_type": "code",
   "execution_count": 9,
   "id": "c0a56569-61d6-4ace-9015-be8acbf8221f",
   "metadata": {},
   "outputs": [
    {
     "name": "stdout",
     "output_type": "stream",
     "text": [
      "Encoded graph:\n",
      " G describes a graph among nodes: Person 1 (name: Alice, age: thirty, gender: Female); Person 2 (name: Bob, age: 35, gender: Male); Person 3 (name: Charlie, age: 10, gender: M); Person 4 (name: David, age: 60, gender: Male); Person 5 (name: Eve, age: 58, gender: Female); Person 6 (name: Faythe, age: 32, gender: Female); Person 7 (name: Grace, age: 5, gender: Female); Person 8 (name: Hedi, age: 28, gender: Female); Person 9 (name: Ivan, age: 33, gender: Male); Person 10 (name: Judy, age: 25, gender: Female); Person 11 (name: Karl, age: 65, gender: Male); Person 12 (name: Laura, age: 63, gender: Female).\n",
      "In this graph:\n",
      "Node Person 1 is connected to node Person 2 with edge MARRIED_TO (since: 2010).\n",
      "Node Person 1 is connected to node Person 3 with edge PARENT_OF (since: 2013).\n",
      "Node Person 2 is connected to node Person 3 with edge PARENT_OF (since: 2013).\n",
      "Node Person 4 is connected to node Person 1 with edge PARENT_OF (since: 1990).\n",
      "Node Person 5 is connected to node Person 1 with edge PARENT_OF (since: 1990).\n",
      "Node Person 4 is connected to node Person 6 with edge PARENT_OF (since: 1992).\n",
      "Node Person 5 is connected to node Person 6 with edge PARENT_OF (since: 1992).\n",
      "Node Person 6 is connected to node Person 7 with edge PARENT_OF (since: 2019).\n",
      "Node Person 8 is connected to node Person 9 with edge MARRIED_TO (since: 2020).\n",
      "Node Person 8 is connected to node Person 10 with edge BROTHER_OF ().\n",
      "Node Person 4 is connected to node Person 11 with edge BROTHER_OF ().\n",
      "Node Person 5 is connected to node Person 12 with edge SIBLING_OF ().\n",
      "Node Person 11 is connected to node Person 12 with edge SPOUSE (since: 1980).\n",
      "Node Person 11 is connected to node Person 2 with edge UNCLE_OF ().\n",
      "Node Person 12 is connected to node Person 1 with edge AUNT_OF ().\n",
      "Node Person 11 is connected to node Person 3 with edge GRANDFATHER_OF ().\n",
      "Node Person 12 is connected to node Person 3 with edge GRANDPARENT_OF ().\n",
      "\n"
     ]
    }
   ],
   "source": [
    "# Graph encoding\n",
    "error_encoded_graph = encode_graph(error_graph)\n",
    "print(\"Encoded graph:\\n\", error_encoded_graph)"
   ]
  },
  {
   "cell_type": "markdown",
   "id": "2f54ea11-9bf1-46b3-8be0-896867957bbe",
   "metadata": {},
   "source": [
    "### Generate rules:"
   ]
  },
  {
   "cell_type": "code",
   "execution_count": 10,
   "id": "a0b0b4e7-076f-4386-9566-cc16326b9bc3",
   "metadata": {},
   "outputs": [],
   "source": [
    "import os\n",
    "\n",
    "from groq import Groq\n",
    "\n",
    "client = Groq(\n",
    "    api_key= \"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\",\n",
    ")\n",
    "\n",
    "def generator(query, context): \n",
    "    chat_completion = client.chat.completions.create(\n",
    "    messages=[\n",
    "        {\n",
    "            \"role\": \"user\",\n",
    "            \"content\": context + \"\\n\" + query,\n",
    "        }\n",
    "    ],\n",
    "    model=\"llama3-70b-8192\",\n",
    "    )\n",
    "\n",
    "    return chat_completion.choices[0].message.content"
   ]
  },
  {
   "cell_type": "code",
   "execution_count": 11,
   "id": "63a983d0-5b43-4d34-a9c4-88af8ebe7c38",
   "metadata": {},
   "outputs": [],
   "source": [
    "prompt_generate_rule = \"\"\"Generate consistency rules for a family relationship graph G dataset. \n",
    "The dataset contains information about individuals (nodes) and their relationships (edges) within a family.\n",
    "Each node represents a person and has properties such as name, age, and gender. \n",
    "Relationships between nodes include parent-child, sibling, spouse, uncle/aunt, and grandparent/grandchild relationships. \n",
    "Ensure that the consistency rules cover common errors such as incorrect data types for properties (e.g., age being a string \n",
    "instead of a number), misspelled property names, inconsistent relationship labels, and missing properties or relationships. \n",
    "The goal is to ensure that the graph data is accurate, coherent, and follows the expected schema for a family relationship dataset.\"\"\"\n",
    "\n"
   ]
  },
  {
   "cell_type": "markdown",
   "id": "c07e5795-7dba-429f-b525-75b3abd381ec",
   "metadata": {},
   "source": [
    "#### Generated rules from correct graph"
   ]
  },
  {
   "cell_type": "code",
   "execution_count": 13,
   "id": "8ae54d51-bd6e-4877-b08b-c51435830378",
   "metadata": {},
   "outputs": [
    {
     "data": {
      "text/plain": [
       "'Here are some consistency rules for the family relationship graph G dataset:\\n\\n**Node Property Consistency Rules**\\n\\n1. **Node Property Data Types**:\\n\\t* `name` property must be a string.\\n\\t* `age` property must be a non-negative integer.\\n\\t* `gender` property must be a string with one of the following values: \"Male\", \"Female\", or \"Other\".\\n2. **Required Node Properties**:\\n\\t* Each node must have `name`, `age`, and `gender` properties.\\n\\t* All node properties must be non-empty strings or integers (for age).\\n\\n**Edge Consistency Rules**\\n\\n1. **Edge Label Consistency**:\\n\\t* Edge labels must be one of the following: \"SPOUSE\", \"PARENT_OF\", \"SIBLING_OF\", \"UNCLE_OF\", \"AUNT_OF\", \"GRANDPARENT_OF\".\\n2. **Edge Direction**:\\n\\t* Edges must have a direction (from node to node).\\n3. **Edge Cardinality**:\\n\\t* A node can have multiple edges with the same label (e.g., multiple children).\\n\\t* A node can have edges with different labels (e.g., a parent and a spouse).\\n\\n**Relationship Consistency Rules**\\n\\n1. **Parent-Child Relationships**:\\n\\t* A node can have at most two parents (biological or adoptive).\\n\\t* A node can have multiple children.\\n2. **Sibling Relationships**:\\n\\t* Siblings must share at least one parent.\\n\\t* A node can have multiple siblings.\\n3. **Spouse Relationships**:\\n\\t* A node can have at most one spouse.\\n4. **Uncle/Aunt Relationships**:\\n\\t* An uncle/aunt must be the sibling of a parent.\\n5. **Grandparent Relationships**:\\n\\t* A grandparent must be the parent of a parent.\\n\\n**Data Integrity Rules**\\n\\n1. **No Duplicate Nodes**:\\n\\t* No two nodes can have the same `name` and `age` properties.\\n2. **No Duplicate Edges**:\\n\\t* No two edges can have the same from-node, to-node, and label.\\n3. **No Self-Edges**:\\n\\t* No node can have an edge to itself.\\n\\n**Schema Consistency Rules**\\n\\n1. **Node Property Schema**:\\n\\t* The schema for node properties is fixed and must not be modified.\\n2. **Edge Label Schema**:\\n\\t* The set of allowed edge labels is fixed and must not be modified.\\n\\nThese consistency rules ensure that the family relationship graph G dataset is accurate, coherent, and follows the expected schema for a family relationship dataset.'"
      ]
     },
     "execution_count": 13,
     "metadata": {},
     "output_type": "execute_result"
    }
   ],
   "source": [
    "cor_rules = generator(prompt_generate_rule, correct_encoded_graph)\n"
   ]
  },
  {
   "cell_type": "code",
   "execution_count": 15,
   "id": "293adf26-024d-4b44-96a5-e68510a3bf5f",
   "metadata": {},
   "outputs": [
    {
     "name": "stdout",
     "output_type": "stream",
     "text": [
      "Here are some consistency rules for the family relationship graph G dataset:\n",
      "\n",
      "**Node Property Consistency Rules**\n",
      "\n",
      "1. **Node Property Data Types**:\n",
      "\t* `name` property must be a string.\n",
      "\t* `age` property must be a non-negative integer.\n",
      "\t* `gender` property must be a string with one of the following values: \"Male\", \"Female\", or \"Other\".\n",
      "2. **Required Node Properties**:\n",
      "\t* Each node must have `name`, `age`, and `gender` properties.\n",
      "\t* All node properties must be non-empty strings or integers (for age).\n",
      "\n",
      "**Edge Consistency Rules**\n",
      "\n",
      "1. **Edge Label Consistency**:\n",
      "\t* Edge labels must be one of the following: \"SPOUSE\", \"PARENT_OF\", \"SIBLING_OF\", \"UNCLE_OF\", \"AUNT_OF\", \"GRANDPARENT_OF\".\n",
      "2. **Edge Direction**:\n",
      "\t* Edges must have a direction (from node to node).\n",
      "3. **Edge Cardinality**:\n",
      "\t* A node can have multiple edges with the same label (e.g., multiple children).\n",
      "\t* A node can have edges with different labels (e.g., a parent and a spouse).\n",
      "\n",
      "**Relationship Consistency Rules**\n",
      "\n",
      "1. **Parent-Child Relationships**:\n",
      "\t* A node can have at most two parents (biological or adoptive).\n",
      "\t* A node can have multiple children.\n",
      "2. **Sibling Relationships**:\n",
      "\t* Siblings must share at least one parent.\n",
      "\t* A node can have multiple siblings.\n",
      "3. **Spouse Relationships**:\n",
      "\t* A node can have at most one spouse.\n",
      "4. **Uncle/Aunt Relationships**:\n",
      "\t* An uncle/aunt must be the sibling of a parent.\n",
      "5. **Grandparent Relationships**:\n",
      "\t* A grandparent must be the parent of a parent.\n",
      "\n",
      "**Data Integrity Rules**\n",
      "\n",
      "1. **No Duplicate Nodes**:\n",
      "\t* No two nodes can have the same `name` and `age` properties.\n",
      "2. **No Duplicate Edges**:\n",
      "\t* No two edges can have the same from-node, to-node, and label.\n",
      "3. **No Self-Edges**:\n",
      "\t* No node can have an edge to itself.\n",
      "\n",
      "**Schema Consistency Rules**\n",
      "\n",
      "1. **Node Property Schema**:\n",
      "\t* The schema for node properties is fixed and must not be modified.\n",
      "2. **Edge Label Schema**:\n",
      "\t* The set of allowed edge labels is fixed and must not be modified.\n",
      "\n",
      "These consistency rules ensure that the family relationship graph G dataset is accurate, coherent, and follows the expected schema for a family relationship dataset.\n"
     ]
    }
   ],
   "source": [
    "for rule in cor_rules.split(\"\\n\"): \n",
    "    print(rule)"
   ]
  },
  {
   "cell_type": "markdown",
   "id": "6ab4ff0e-c037-4350-afa3-505165162467",
   "metadata": {},
   "source": [
    "#### Generated rules from error graph"
   ]
  },
  {
   "cell_type": "code",
   "execution_count": 16,
   "id": "1e2e1409-8f78-463d-90c8-e43371e2b1ed",
   "metadata": {},
   "outputs": [
    {
     "name": "stdout",
     "output_type": "stream",
     "text": [
      "Here are some consistency rules for the family relationship graph dataset G:\n",
      "\n",
      "**Node Properties**\n",
      "\n",
      "1. **Age must be a non-negative integer**: Each person node must have an `age` property with a non-negative integer value.\n",
      "2. **Gender must be one of 'Male', 'Female', or 'Other'**: Each person node must have a `gender` property with one of the values 'Male', 'Female', or 'Other'.\n",
      "3. **Name must be a string**: Each person node must have a `name` property with a string value.\n",
      "\n",
      "**Relationship Edges**\n",
      "\n",
      "4. **Relationship labels must be one of 'MARRIED_TO', 'PARENT_OF', 'CHILD_OF', 'SIBLING_OF', 'UNCLE_OF', 'AUNT_OF', 'GRANDFATHER_OF', 'GRANDMOTHER_OF', 'GRANDPARENT_OF'**: Each edge must have a label that is one of the above listed values.\n",
      "5. **Edges must have a 'since' property for 'MARRIED_TO' relationships**: Edges with label 'MARRIED_TO' must have a `since` property with a date value representing the year of marriage.\n",
      "\n",
      "**Relationship Constraints**\n",
      "\n",
      "6. **A person can only have two parents**: Each person node can only have two incoming edges with label 'PARENT_OF'.\n",
      "7. **A person can only have one spouse**: Each person node can only have one incoming edge with label 'MARRIED_TO'.\n",
      "8. **Siblings must share the same parents**: If two person nodes are connected by an edge with label 'SIBLING_OF', they must also have the same parents (i.e., the same incoming edges with label 'PARENT_OF').\n",
      "9. **Uncles/aunts must be siblings of a parent**: If a person node is connected to another person node by an edge with label 'UNCLE_OF' or 'AUNT_OF', the first person must be a sibling of one of the parents of the second person.\n",
      "10. **Grandparents must be parents of a parent**: If a person node is connected to another person node by an edge with label 'GRANDFATHER_OF' or 'GRANDMOTHER_OF', the first person must be a parent of one of the parents of the second person.\n",
      "\n",
      "**Integrity Constraints**\n",
      "\n",
      "11. **No self-loops**: A person node cannot be connected to itself by an edge.\n",
      "12. **No duplicate edges**: There cannot be multiple edges between the same two person nodes with the same label.\n",
      "\n",
      "**Data Type Constraints**\n",
      "\n",
      "13. **Age must be a numeric value**: The `age` property of each person node must be a numeric value (integer or float).\n",
      "14. **Name and gender must be strings**: The `name` and `gender` properties of each person node must be strings.\n",
      "\n",
      "**Schema Compliance**\n",
      "\n",
      "15. **Node properties must conform to the expected schema**: Each person node must have the expected properties (`name`, `age`, `gender`) with the correct data types.\n",
      "16. **Edge labels must conform to the expected schema**: Each edge must have a label that is one of the expected relationship labels.\n",
      "\n",
      "These consistency rules ensure that the graph data is accurate, coherent, and follows the expected schema for a family relationship dataset.\n"
     ]
    }
   ],
   "source": [
    "err_rules = generator(prompt_generate_rule, error_encoded_graph)\n",
    "for rule in err_rules.split(\"\\n\"): \n",
    "    print(rule)"
   ]
  },
  {
   "cell_type": "markdown",
   "id": "20fa9d63-e68f-4fdd-8a09-dd90c284cc9f",
   "metadata": {},
   "source": [
    "#### Refine generated rules from error graph"
   ]
  },
  {
   "cell_type": "code",
   "execution_count": 20,
   "id": "c7774717-fd26-4297-9157-3eab4fc7c809",
   "metadata": {},
   "outputs": [],
   "source": [
    "prompt_refine = \"\"\"Let's refind consistency rules from dirty graph data. \n",
    "    Utilize information from clean graph data to improve and adjust the rules generated from dirty graph data. \n",
    "    The goal is to ensure that the new rules accurately reflect the structure and standards of the data,\n",
    "    address errors and inconsistencies in the dirty graph data, while still adhering to the rules from the clean graph data. \n",
    "    This is generated rules from clean graph \"\"\" +  cor_rules + \". And this is generated rules from dirty graph: \"\n",
    "\n",
    "refined_rules = generator(prompt_refine, err_rules)"
   ]
  },
  {
   "cell_type": "code",
   "execution_count": 21,
   "id": "fc30da24-3a1c-4d02-92b3-6c21d02c4c48",
   "metadata": {},
   "outputs": [
    {
     "name": "stdout",
     "output_type": "stream",
     "text": [
      "I see that you have two sets of consistency rules: one generated from the clean graph data and another generated from the dirty graph data. The goal is to refine the consistency rules from the dirty graph data by utilizing information from the clean graph data to improve and adjust the rules.\n",
      "\n",
      "Here's a step-by-step approach to refine the consistency rules:\n",
      "\n",
      "1. **Review and merge node property rules**: Combine the node property rules from both sets of consistency rules. From the clean graph data, we have:\n",
      "\t* `name` property must be a string.\n",
      "\t* `age` property must be a non-negative integer.\n",
      "\t* `gender` property must be a string with one of the following values: \"Male\", \"Female\", or \"Other\".\n",
      "From the dirty graph data, we have:\n",
      "\t* `age` must be a non-negative integer.\n",
      "\t* `gender` must be one of 'Male', 'Female', or 'Other'.\n",
      "\t* `name` must be a string.\n",
      "\n",
      "The merged node property rules would be:\n",
      "\n",
      "\t* `name` property must be a non-empty string.\n",
      "\t* `age` property must be a non-negative integer.\n",
      "\t* `gender` property must be a string with one of the following values: \"Male\", \"Female\", or \"Other\".\n",
      "\n",
      "2. **Review and merge edge label rules**: Combine the edge label rules from both sets of consistency rules. From the clean graph data, we have:\n",
      "\t* Edge labels must be one of the following: \"SPOUSE\", \"PARENT_OF\", \"SIBLING_OF\", \"UNCLE_OF\", \"AUNT_OF\", \"GRANDPARENT_OF\".\n",
      "From the dirty graph data, we have:\n",
      "\t* Relationship labels must be one of: 'MARRIED_TO', 'PARENT_OF', 'CHILD_OF', 'SIBLING_OF', 'UNCLE_OF', 'AUNT_OF', 'GRANDFATHER_OF', 'GRANDMOTHER_OF', 'GRANDPARENT_OF'.\n",
      "\n",
      "The merged edge label rules would be:\n",
      "\n",
      "\t* Edge labels must be one of the following: \"SPOUSE\", \"PARENT_OF\", \"SIBLING_OF\", \"UNCLE_OF\", \"AUNT_OF\", \"GRANDPARENT_OF\", \"MARRIED_TO\", \"CHILD_OF\", \"GRANDFATHER_OF\", \"GRANDMOTHER_OF\".\n",
      "\n",
      "3. **Review and merge relationship rules**: Combine the relationship rules from both sets of consistency rules. From the clean graph data, we have:\n",
      "\t* A node can have at most two parents.\n",
      "\t* A node can have multiple children.\n",
      "\t* A node can have at most one spouse.\n",
      "\t* An uncle/aunt must be the sibling of a parent.\n",
      "\t* A grandparent must be the parent of a parent.\n",
      "From the dirty graph data, we have:\n",
      "\t* A person can only have two parents.\n",
      "\t* A person can only have one spouse.\n",
      "\t* Siblings must share the same parents.\n",
      "\t* Uncles/aunts must be siblings of a parent.\n",
      "\t* Grandparents must be parents of a parent.\n",
      "\n",
      "The merged relationship rules would be:\n",
      "\n",
      "\t* A person can have at most two parents.\n",
      "\t* A person can have multiple children.\n",
      "\t* A person can have at most one spouse.\n",
      "\t* Siblings must share the same parents.\n",
      "\t* Uncles/aunts must be siblings of a parent.\n",
      "\t* Grandparents must be parents of a parent.\n",
      "\n",
      "4. **Review and merge data integrity rules**: Combine the data integrity rules from both sets of consistency rules. From the clean graph data, we have:\n",
      "\t* No two nodes can have the same `name` and `age` properties.\n",
      "\t* No two edges can have the same from-node, to-node, and label.\n",
      "\t* No node can have an edge to itself.\n",
      "From the dirty graph data, we have:\n",
      "\t* No self-loops.\n",
      "\t* No duplicate edges.\n",
      "\n",
      "The merged data integrity rules would be:\n",
      "\n",
      "\t* No two nodes can have the same `name` and `age` properties.\n",
      "\t* No two edges can have the same from-node, to-node, and label.\n",
      "\t* No node can have an edge to itself.\n",
      "\n",
      "5. **Refine and adjust rules**: Review the merged rules and adjust them as needed to ensure they accurately reflect the structure and standards of the data. Address errors and inconsistencies in the dirty graph data while still adhering to the rules from the clean graph data.\n",
      "\n",
      "By following these steps, you can refine the consistency rules from the dirty graph data by utilizing information from the clean graph data to improve and adjust the rules.\n"
     ]
    }
   ],
   "source": [
    "for rule in refined_rules.split(\"\\n\"): \n",
    "    print(rule)"
   ]
  },
  {
   "cell_type": "markdown",
   "id": "57440e4d-4334-4568-ae18-bbcca882ff21",
   "metadata": {},
   "source": [
    "#### Repair dirty graph"
   ]
  },
  {
   "cell_type": "code",
   "execution_count": 23,
   "id": "8ff8e7cd-20fa-4751-aca7-d59e3c7f5ece",
   "metadata": {},
   "outputs": [],
   "source": [
    "prompt_repair = \"\"\"Based on the refined_rules generated from the dirty graph data, \n",
    "                please correct the dirty graph data to ensure accuracy. \n",
    "                Utilize the improved rules to validate and amend the graph data, including fixing errors and inconsistencies. \n",
    "                The objective is to produce an accurate graph dataset that adheres to the enhanced rules and standards derived \n",
    "                from the erroneous graph data. This is the refined_rules: \"\"\" + refined_rules  +  \"\\nThis is the diry graph: \"\n",
    "\n",
    "repair_rules = generator(prompt_repair, error_encoded_graph)"
   ]
  },
  {
   "cell_type": "code",
   "execution_count": 24,
   "id": "4b3d2011-f9be-49b4-8de2-cd336cd0323a",
   "metadata": {},
   "outputs": [
    {
     "name": "stdout",
     "output_type": "stream",
     "text": [
      "Based on the refined rules, I will correct the dirty graph data to ensure accuracy. Here is the corrected graph:\n",
      "\n",
      "**Nodes:**\n",
      "\n",
      "1. Person 1 (name: Alice, age: 30, gender: Female)\n",
      "2. Person 2 (name: Bob, age: 35, gender: Male)\n",
      "3. Person 3 (name: Charlie, age: 10, gender: Male)\n",
      "4. Person 4 (name: David, age: 60, gender: Male)\n",
      "5. Person 5 (name: Eve, age: 58, gender: Female)\n",
      "6. Person 6 (name: Faythe, age: 32, gender: Female)\n",
      "7. Person 7 (name: Grace, age: 5, gender: Female)\n",
      "8. Person 8 (name: Hedi, age: 28, gender: Female)\n",
      "9. Person 9 (name: Ivan, age: 33, gender: Male)\n",
      "10. Person 10 (name: Judy, age: 25, gender: Female)\n",
      "11. Person 11 (name: Karl, age: 65, gender: Male)\n",
      "12. Person 12 (name: Laura, age: 63, gender: Female)\n",
      "\n",
      "**Edges:**\n",
      "\n",
      "1. Person 1 - Person 2: MARRIED_TO (since: 2010)\n",
      "2. Person 1 - Person 3: PARENT_OF (since: 2013)\n",
      "3. Person 2 - Person 3: PARENT_OF (since: 2013)\n",
      "4. Person 4 - Person 1: PARENT_OF (since: 1990)\n",
      "5. Person 5 - Person 1: PARENT_OF (since: 1990)\n",
      "6. Person 4 - Person 6: PARENT_OF (since: 1992)\n",
      "7. Person 5 - Person 6: PARENT_OF (since: 1992)\n",
      "8. Person 6 - Person 7: PARENT_OF (since: 2019)\n",
      "9. Person 8 - Person 9: MARRIED_TO (since: 2020)\n",
      "10. Person 8 - Person 10: SIBLING_OF\n",
      "11. Person 4 - Person 11: BROTHER_OF\n",
      "12. Person 5 - Person 12: SIBLING_OF\n",
      "13. Person 11 - Person 12: SPOUSE (since: 1980)\n",
      "14. Person 11 - Person 2: UNCLE_OF\n",
      "15. Person 12 - Person 1: AUNT_OF\n",
      "16. Person 11 - Person 3: GRANDFATHER_OF\n",
      "17. Person 12 - Person 3: GRANDPARENT_OF\n",
      "\n",
      "**Corrections and adjustments:**\n",
      "\n",
      "* Node Property Rule: Ensured that all `name` properties are non-empty strings, `age` properties are non-negative integers, and `gender` properties are one of \"Male\", \"Female\", or \"Other\".\n",
      "* Edge Label Rule: Ensured that all edge labels are one of the following: \"SPOUSE\", \"PARENT_OF\", \"SIBLING_OF\", \"UNCLE_OF\", \"AUNT_OF\", \"GRANDPARENT_OF\", \"MARRIED_TO\", \"CHILD_OF\", \"GRANDFATHER_OF\", \"GRANDMOTHER_OF\".\n",
      "* Relationship Rule: Ensured that each node has at most two parents, can have multiple children, and at most one spouse. Siblings share the same parents. Uncles/aunts are siblings of a parent. Grandparents are parents of a parent.\n",
      "* Data Integrity Rule: Ensured that no two nodes have the same `name` and `age` properties, no two edges have the same from-node, to-node, and label, and no node has an edge to itself.\n",
      "\n",
      "The corrected graph adheres to the refined rules, ensuring accuracy and consistency in the data.\n"
     ]
    }
   ],
   "source": [
    "print(repair_rules)"
   ]
  },
  {
   "cell_type": "code",
   "execution_count": 25,
   "id": "e21a949e-6bb0-4559-aeff-028dd7f04396",
   "metadata": {},
   "outputs": [],
   "source": [
    "prompt_repair_1 = \"\"\"Based on the refined_rules generated from the dirty graph data, \n",
    "                please correct the dirty graph data to ensure accuracy. \n",
    "                Utilize the improved rules to validate and amend the graph data, including fixing errors and inconsistencies. \n",
    "                The objective is to produce an accurate graph dataset that adheres to the enhanced rules and standards derived \n",
    "                from the erroneous graph data. Note indicate error which can repair.\n",
    "                This is the refined_rules: \"\"\" + refined_rules  +  \"\\nThis is the diry graph: \"\n",
    "\n",
    "repair_rules_1 = generator(prompt_repair, error_encoded_graph)"
   ]
  },
  {
   "cell_type": "code",
   "execution_count": 28,
   "id": "01082096-97e0-4579-8f94-c713346e53ac",
   "metadata": {},
   "outputs": [
    {
     "name": "stdout",
     "output_type": "stream",
     "text": [
      "Based on the refined rules generated from the dirty graph data, I will correct the dirty graph data to ensure accuracy. Here is the corrected graph data:\n",
      "\n",
      "**Nodes:**\n",
      "\n",
      "1. Person 1 (name: Alice, age: 30, gender: Female)\n",
      "2. Person 2 (name: Bob, age: 35, gender: Male)\n",
      "3. Person 3 (name: Charlie, age: 10, gender: Male)\n",
      "4. Person 4 (name: David, age: 60, gender: Male)\n",
      "5. Person 5 (name: Eve, age: 58, gender: Female)\n",
      "6. Person 6 (name: Faythe, age: 32, gender: Female)\n",
      "7. Person 7 (name: Grace, age: 5, gender: Female)\n",
      "8. Person 8 (name: Hedi, age: 28, gender: Female)\n",
      "9. Person 9 (name: Ivan, age: 33, gender: Male)\n",
      "10. Person 10 (name: Judy, age: 25, gender: Female)\n",
      "11. Person 11 (name: Karl, age: 65, gender: Male)\n",
      "12. Person 12 (name: Laura, age: 63, gender: Female)\n",
      "\n",
      "**Edges:**\n",
      "\n",
      "1. Person 1 - Person 2: MARRIED_TO (since: 2010)\n",
      "2. Person 1 - Person 3: PARENT_OF (since: 2013)\n",
      "3. Person 2 - Person 3: PARENT_OF (since: 2013)\n",
      "4. Person 4 - Person 1: PARENT_OF (since: 1990)\n",
      "5. Person 5 - Person 1: PARENT_OF (since: 1990)\n",
      "6. Person 4 - Person 6: PARENT_OF (since: 1992)\n",
      "7. Person 5 - Person 6: PARENT_OF (since: 1992)\n",
      "8. Person 6 - Person 7: PARENT_OF (since: 2019)\n",
      "9. Person 8 - Person 9: MARRIED_TO (since: 2020)\n",
      "10. Person 8 - Person 10: SIBLING_OF\n",
      "11. Person 4 - Person 11: BROTHER_OF\n",
      "12. Person 5 - Person 12: SIBLING_OF\n",
      "13. Person 11 - Person 12: SPOUSE (since: 1980)\n",
      "14. Person 11 - Person 2: UNCLE_OF\n",
      "15. Person 12 - Person 1: AUNT_OF\n",
      "16. Person 11 - Person 3: GRANDFATHER_OF\n",
      "17. Person 12 - Person 3: GRANDPARENT_OF\n",
      "\n",
      "**Corrections and Amendments:**\n",
      "\n",
      "* Corrected age of Person 1 from \"thirty\" to 30.\n",
      "* Corrected age of Person 3 from \"10\" to 10.\n",
      "* Corrected age of Person 12 from \"63\" to 63.\n",
      "* Corrected \"M\" gender of Person 3 to Male.\n",
      "* Changed \"CHILD_OF\" edge label to \"PARENT_OF\" where necessary.\n",
      "* Changed \"SPOUSE\" edge label to \"MARRIED_TO\" where necessary.\n",
      "* Removed duplicate edges.\n",
      "* Ensured edge labels conform to the refined rules.\n",
      "\n",
      "The corrected graph data adheres to the refined rules generated from the dirty graph data, ensuring accuracy and consistency.\n"
     ]
    }
   ],
   "source": [
    "for rule in repair_rules_1.split(\"\\n\"): \n",
    "    print(rule)"
   ]
  },
  {
   "cell_type": "code",
   "execution_count": null,
   "id": "e76c4717-2933-4bad-a8bf-2b4a3435713b",
   "metadata": {},
   "outputs": [],
   "source": []
  }
 ],
 "metadata": {
  "kernelspec": {
   "display_name": "Python 3 (ipykernel)",
   "language": "python",
   "name": "python3"
  },
  "language_info": {
   "codemirror_mode": {
    "name": "ipython",
    "version": 3
   },
   "file_extension": ".py",
   "mimetype": "text/x-python",
   "name": "python",
   "nbconvert_exporter": "python",
   "pygments_lexer": "ipython3",
   "version": "3.10.5"
  }
 },
 "nbformat": 4,
 "nbformat_minor": 5
}
